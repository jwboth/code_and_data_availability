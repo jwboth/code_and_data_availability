{
 "cells": [
  {
   "cell_type": "markdown",
   "id": "ba010606",
   "metadata": {},
   "source": [
    "## Categorize TiPM submissions (Part 1)\n",
    "Distinguish between 'experimental', 'computational' and 'other'."
   ]
  },
  {
   "cell_type": "code",
   "execution_count": null,
   "id": "8845e9d4",
   "metadata": {},
   "outputs": [],
   "source": [
    "!python ../scripts/analysis.py -i ..\\database\\tipm.csv -o ..\\results\\tipm_exp_vs_comp.csv -c ..\\categories\\categories_experimental_vs_computational.csv -oa ..\\categories\\oa_scores.csv -da ..\\categories\\da_scores.csv"
   ]
  },
  {
   "cell_type": "markdown",
   "id": "c081e06e",
   "metadata": {},
   "source": [
    "## Categorize TiPM submissions (Part 2)\n",
    "Distinguish between 'imaging', 'simulation' and 'other'."
   ]
  },
  {
   "cell_type": "code",
   "execution_count": null,
   "id": "cfd77a7e",
   "metadata": {},
   "outputs": [
    {
     "name": "stderr",
     "output_type": "stream",
     "text": [
      "python: can't open file 'c:\\\\Users\\\\jbo062\\\\src\\\\data-projects\\\\code_and_data_availability\\\\notebooks\\\\analysis.py': [Errno 2] No such file or directory\n"
     ]
    }
   ],
   "source": [
    "!python ../scripts/analysis.py -i ..\\database\\tipm.csv -o ..\\results\\tipm_img_vs_sim.csv -c ..\\categories\\categories_imaging_vs_simulation.csv -oa ..\\categories\\oa_scores.csv -da ..\\categories\\da_scores.csv"
   ]
  }
 ],
 "metadata": {
  "kernelspec": {
   "display_name": "Python 3",
   "language": "python",
   "name": "python3"
  },
  "language_info": {
   "codemirror_mode": {
    "name": "ipython",
    "version": 3
   },
   "file_extension": ".py",
   "mimetype": "text/x-python",
   "name": "python",
   "nbconvert_exporter": "python",
   "pygments_lexer": "ipython3",
   "version": "3.12.10"
  }
 },
 "nbformat": 4,
 "nbformat_minor": 5
}
